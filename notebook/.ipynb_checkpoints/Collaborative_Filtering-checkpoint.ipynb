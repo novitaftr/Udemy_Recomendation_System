{
 "cells": [
  {
   "cell_type": "markdown",
   "id": "5236d019-de48-457d-832d-930c82fce82e",
   "metadata": {},
   "source": [
    "# Udemy Course Recommendation System - Collaborative Filtering\n",
    "\n",
    "### Introduction\n",
    "We will build recommendation system for udemy course dataset using collaborative filtering method. The dataset can be obtained from kaggle [link here](https://www.kaggle.com/datasets/hossaingh/udemy-courses). \n",
    "\n",
    "1. `Course_info` dataset contains all the information about the courses such as `course_id`, `avg_rating`, `num_subscribers`, `title`, etc.\n",
    "2. `Comments` dataset contains the information about user who gave their rating and comments to courses they watched.\n",
    "\n",
    "Collaborative filtering method is a method that build a recommendation to user based on the similarity between other users.\n",
    "\n",
    "In this notebook, we will discuss Collaborative Filtering Item-based and focuses on Model-based Approach. We will use `sklearn` and `surprise` library with KNN Nearest Neighbors model.\n"
   ]
  },
  {
   "cell_type": "markdown",
   "id": "1d9d07e6-5304-4ae4-af9b-9b529b1c04fa",
   "metadata": {},
   "source": [
    "### Data Load"
   ]
  },
  {
   "cell_type": "code",
   "execution_count": 1,
   "id": "33580c0b-7d0d-4bab-bfc1-29124adc2aac",
   "metadata": {},
   "outputs": [],
   "source": [
    "# Import necessary libraries\n",
    "import warnings\n",
    "warnings.filterwarnings('ignore')\n",
    "\n",
    "import pandas as pd\n",
    "import matplotlib.pyplot as plt\n",
    "import seaborn as sns\n",
    "import numpy as np\n",
    "\n",
    "from collections import defaultdict\n",
    "\n",
    "import time\n",
    "import re\n",
    "\n",
    "pd.set_option('display.max_columns', 200)\n",
    "\n",
    "plt.style.use('bmh')\n",
    "\n",
    "%matplotlib inline"
   ]
  },
  {
   "cell_type": "code",
   "execution_count": 2,
   "id": "7a743dd1-6466-4e79-97c6-1dc11c733380",
   "metadata": {},
   "outputs": [
    {
     "data": {
      "text/html": [
       "<div>\n",
       "<style scoped>\n",
       "    .dataframe tbody tr th:only-of-type {\n",
       "        vertical-align: middle;\n",
       "    }\n",
       "\n",
       "    .dataframe tbody tr th {\n",
       "        vertical-align: top;\n",
       "    }\n",
       "\n",
       "    .dataframe thead th {\n",
       "        text-align: right;\n",
       "    }\n",
       "</style>\n",
       "<table border=\"1\" class=\"dataframe\">\n",
       "  <thead>\n",
       "    <tr style=\"text-align: right;\">\n",
       "      <th></th>\n",
       "      <th>id</th>\n",
       "      <th>course_id</th>\n",
       "      <th>rate</th>\n",
       "      <th>date</th>\n",
       "      <th>display_name</th>\n",
       "      <th>comment</th>\n",
       "      <th>title</th>\n",
       "      <th>is_paid</th>\n",
       "      <th>price</th>\n",
       "      <th>headline</th>\n",
       "      <th>num_subscribers</th>\n",
       "      <th>avg_rating</th>\n",
       "      <th>num_reviews</th>\n",
       "      <th>num_comments</th>\n",
       "      <th>num_lectures</th>\n",
       "      <th>content_length_min</th>\n",
       "      <th>published_time</th>\n",
       "      <th>last_update_date</th>\n",
       "      <th>category</th>\n",
       "      <th>subcategory</th>\n",
       "      <th>topic</th>\n",
       "      <th>language</th>\n",
       "      <th>course_url</th>\n",
       "      <th>instructor_name</th>\n",
       "      <th>instructor_url</th>\n",
       "      <th>image</th>\n",
       "    </tr>\n",
       "  </thead>\n",
       "  <tbody>\n",
       "    <tr>\n",
       "      <th>0</th>\n",
       "      <td>9388140</td>\n",
       "      <td>625204</td>\n",
       "      <td>5.0</td>\n",
       "      <td>2017-09-08T02:15:37-07:00</td>\n",
       "      <td>John Douglas</td>\n",
       "      <td>examples are well thought through, the lessons...</td>\n",
       "      <td>The Web Developer Bootcamp 2022</td>\n",
       "      <td>True</td>\n",
       "      <td>199.99</td>\n",
       "      <td>COMPLETELY REDONE - The only course you need t...</td>\n",
       "      <td>823805</td>\n",
       "      <td>4.708899</td>\n",
       "      <td>246624</td>\n",
       "      <td>31001</td>\n",
       "      <td>648</td>\n",
       "      <td>3827</td>\n",
       "      <td>2015-11-02 21:13:27+00:00</td>\n",
       "      <td>2022-07-01</td>\n",
       "      <td>Development</td>\n",
       "      <td>Web Development</td>\n",
       "      <td>Web Development</td>\n",
       "      <td>English</td>\n",
       "      <td>/course/the-web-developer-bootcamp/</td>\n",
       "      <td>Colt Steele</td>\n",
       "      <td>/user/coltsteele/</td>\n",
       "      <td>https://img-c.udemycdn.com/course/750x422/6252...</td>\n",
       "    </tr>\n",
       "    <tr>\n",
       "      <th>1</th>\n",
       "      <td>125232566</td>\n",
       "      <td>821278</td>\n",
       "      <td>4.0</td>\n",
       "      <td>2022-10-04T01:40:55-07:00</td>\n",
       "      <td>Tanya</td>\n",
       "      <td>Helps in increasing knowledge and run through ...</td>\n",
       "      <td>INTERVIEW TRAINING: Ask Better Questions, Hire...</td>\n",
       "      <td>True</td>\n",
       "      <td>19.99</td>\n",
       "      <td>If you want to improve your hiring accuracy or...</td>\n",
       "      <td>23494</td>\n",
       "      <td>4.503405</td>\n",
       "      <td>10223</td>\n",
       "      <td>951</td>\n",
       "      <td>19</td>\n",
       "      <td>99</td>\n",
       "      <td>2016-04-21 15:00:43+00:00</td>\n",
       "      <td>2017-01-31</td>\n",
       "      <td>Business</td>\n",
       "      <td>Management</td>\n",
       "      <td>Interviewing Skills</td>\n",
       "      <td>English</td>\n",
       "      <td>/course/advanced-interviewer-training/</td>\n",
       "      <td>James Colino</td>\n",
       "      <td>/user/james-colino/</td>\n",
       "      <td>https://img-b.udemycdn.com/course/750x422/8212...</td>\n",
       "    </tr>\n",
       "    <tr>\n",
       "      <th>2</th>\n",
       "      <td>57899017</td>\n",
       "      <td>567828</td>\n",
       "      <td>5.0</td>\n",
       "      <td>2020-06-09T05:51:08-07:00</td>\n",
       "      <td>Rohan</td>\n",
       "      <td>Yes. I don't feel overwhelmed about learning h...</td>\n",
       "      <td>2022 Complete Python Bootcamp From Zero to Her...</td>\n",
       "      <td>True</td>\n",
       "      <td>199.99</td>\n",
       "      <td>Learn Python like a Professional  Start from t...</td>\n",
       "      <td>1612862</td>\n",
       "      <td>4.611872</td>\n",
       "      <td>436457</td>\n",
       "      <td>39040</td>\n",
       "      <td>255</td>\n",
       "      <td>1333</td>\n",
       "      <td>2015-10-12 21:42:53+00:00</td>\n",
       "      <td>2021-03-14</td>\n",
       "      <td>Development</td>\n",
       "      <td>Programming Languages</td>\n",
       "      <td>Python</td>\n",
       "      <td>English</td>\n",
       "      <td>/course/complete-python-bootcamp/</td>\n",
       "      <td>Jose Portilla</td>\n",
       "      <td>/user/joseportilla/</td>\n",
       "      <td>https://img-c.udemycdn.com/course/750x422/5678...</td>\n",
       "    </tr>\n",
       "    <tr>\n",
       "      <th>3</th>\n",
       "      <td>43107550</td>\n",
       "      <td>1352468</td>\n",
       "      <td>4.0</td>\n",
       "      <td>2020-01-06T06:01:41-08:00</td>\n",
       "      <td>Abhishek</td>\n",
       "      <td>Overall course was good except last two lectur...</td>\n",
       "      <td>Master Microservices with Spring Boot and Spri...</td>\n",
       "      <td>True</td>\n",
       "      <td>199.99</td>\n",
       "      <td>Java Spring Boot Microservices 5-in-1 - Spring...</td>\n",
       "      <td>190133</td>\n",
       "      <td>4.563948</td>\n",
       "      <td>39671</td>\n",
       "      <td>4615</td>\n",
       "      <td>316</td>\n",
       "      <td>1318</td>\n",
       "      <td>2017-09-18 23:32:14+00:00</td>\n",
       "      <td>2022-10-03</td>\n",
       "      <td>Development</td>\n",
       "      <td>Web Development</td>\n",
       "      <td>Microservices</td>\n",
       "      <td>English</td>\n",
       "      <td>/course/microservices-with-spring-boot-and-spr...</td>\n",
       "      <td>in28Minutes Official</td>\n",
       "      <td>/user/in28minutes/</td>\n",
       "      <td>https://img-c.udemycdn.com/course/750x422/1352...</td>\n",
       "    </tr>\n",
       "    <tr>\n",
       "      <th>4</th>\n",
       "      <td>23581421</td>\n",
       "      <td>1915496</td>\n",
       "      <td>5.0</td>\n",
       "      <td>2018-11-25T19:35:03-08:00</td>\n",
       "      <td>Bryan T</td>\n",
       "      <td>I love the speech delivery speed and articulat...</td>\n",
       "      <td>Facebook Marketing -  Build Facebook Messenger...</td>\n",
       "      <td>True</td>\n",
       "      <td>199.99</td>\n",
       "      <td>Facebook marketing &amp; Facebook ads: Design, dev...</td>\n",
       "      <td>10841</td>\n",
       "      <td>4.769231</td>\n",
       "      <td>1693</td>\n",
       "      <td>505</td>\n",
       "      <td>97</td>\n",
       "      <td>684</td>\n",
       "      <td>2018-09-18 18:14:25+00:00</td>\n",
       "      <td>2019-06-05</td>\n",
       "      <td>Marketing</td>\n",
       "      <td>Digital Marketing</td>\n",
       "      <td>Facebook Marketing</td>\n",
       "      <td>English</td>\n",
       "      <td>/course/facebook-messenger-chatbot-marketing-t...</td>\n",
       "      <td>Isaac Rudansky</td>\n",
       "      <td>/user/isaac-rudansky/</td>\n",
       "      <td>https://img-c.udemycdn.com/course/750x422/1915...</td>\n",
       "    </tr>\n",
       "  </tbody>\n",
       "</table>\n",
       "</div>"
      ],
      "text/plain": [
       "          id  course_id  rate                       date  display_name  \\\n",
       "0    9388140     625204   5.0  2017-09-08T02:15:37-07:00  John Douglas   \n",
       "1  125232566     821278   4.0  2022-10-04T01:40:55-07:00         Tanya   \n",
       "2   57899017     567828   5.0  2020-06-09T05:51:08-07:00         Rohan   \n",
       "3   43107550    1352468   4.0  2020-01-06T06:01:41-08:00      Abhishek   \n",
       "4   23581421    1915496   5.0  2018-11-25T19:35:03-08:00       Bryan T   \n",
       "\n",
       "                                             comment  \\\n",
       "0  examples are well thought through, the lessons...   \n",
       "1  Helps in increasing knowledge and run through ...   \n",
       "2  Yes. I don't feel overwhelmed about learning h...   \n",
       "3  Overall course was good except last two lectur...   \n",
       "4  I love the speech delivery speed and articulat...   \n",
       "\n",
       "                                               title  is_paid   price  \\\n",
       "0                    The Web Developer Bootcamp 2022     True  199.99   \n",
       "1  INTERVIEW TRAINING: Ask Better Questions, Hire...     True   19.99   \n",
       "2  2022 Complete Python Bootcamp From Zero to Her...     True  199.99   \n",
       "3  Master Microservices with Spring Boot and Spri...     True  199.99   \n",
       "4  Facebook Marketing -  Build Facebook Messenger...     True  199.99   \n",
       "\n",
       "                                            headline  num_subscribers  \\\n",
       "0  COMPLETELY REDONE - The only course you need t...           823805   \n",
       "1  If you want to improve your hiring accuracy or...            23494   \n",
       "2  Learn Python like a Professional  Start from t...          1612862   \n",
       "3  Java Spring Boot Microservices 5-in-1 - Spring...           190133   \n",
       "4  Facebook marketing & Facebook ads: Design, dev...            10841   \n",
       "\n",
       "   avg_rating  num_reviews  num_comments  num_lectures  content_length_min  \\\n",
       "0    4.708899       246624         31001           648                3827   \n",
       "1    4.503405        10223           951            19                  99   \n",
       "2    4.611872       436457         39040           255                1333   \n",
       "3    4.563948        39671          4615           316                1318   \n",
       "4    4.769231         1693           505            97                 684   \n",
       "\n",
       "              published_time last_update_date     category  \\\n",
       "0  2015-11-02 21:13:27+00:00       2022-07-01  Development   \n",
       "1  2016-04-21 15:00:43+00:00       2017-01-31     Business   \n",
       "2  2015-10-12 21:42:53+00:00       2021-03-14  Development   \n",
       "3  2017-09-18 23:32:14+00:00       2022-10-03  Development   \n",
       "4  2018-09-18 18:14:25+00:00       2019-06-05    Marketing   \n",
       "\n",
       "             subcategory                topic language  \\\n",
       "0        Web Development      Web Development  English   \n",
       "1             Management  Interviewing Skills  English   \n",
       "2  Programming Languages               Python  English   \n",
       "3        Web Development        Microservices  English   \n",
       "4      Digital Marketing   Facebook Marketing  English   \n",
       "\n",
       "                                          course_url       instructor_name  \\\n",
       "0                /course/the-web-developer-bootcamp/           Colt Steele   \n",
       "1             /course/advanced-interviewer-training/          James Colino   \n",
       "2                  /course/complete-python-bootcamp/         Jose Portilla   \n",
       "3  /course/microservices-with-spring-boot-and-spr...  in28Minutes Official   \n",
       "4  /course/facebook-messenger-chatbot-marketing-t...        Isaac Rudansky   \n",
       "\n",
       "          instructor_url                                              image  \n",
       "0      /user/coltsteele/  https://img-c.udemycdn.com/course/750x422/6252...  \n",
       "1    /user/james-colino/  https://img-b.udemycdn.com/course/750x422/8212...  \n",
       "2    /user/joseportilla/  https://img-c.udemycdn.com/course/750x422/5678...  \n",
       "3     /user/in28minutes/  https://img-c.udemycdn.com/course/750x422/1352...  \n",
       "4  /user/isaac-rudansky/  https://img-c.udemycdn.com/course/750x422/1915...  "
      ]
     },
     "execution_count": 2,
     "metadata": {},
     "output_type": "execute_result"
    }
   ],
   "source": [
    "df = pd.read_csv('../dataset/Udemy_Cleaned.csv')\n",
    "df.head()"
   ]
  },
  {
   "cell_type": "code",
   "execution_count": 3,
   "id": "aec9f056-d433-4e2f-80e9-a58d4ce0de56",
   "metadata": {},
   "outputs": [
    {
     "name": "stdout",
     "output_type": "stream",
     "text": [
      "<class 'pandas.core.frame.DataFrame'>\n",
      "RangeIndex: 263591 entries, 0 to 263590\n",
      "Data columns (total 26 columns):\n",
      " #   Column              Non-Null Count   Dtype  \n",
      "---  ------              --------------   -----  \n",
      " 0   id                  263591 non-null  int64  \n",
      " 1   course_id           263591 non-null  int64  \n",
      " 2   rate                263591 non-null  float64\n",
      " 3   date                263591 non-null  object \n",
      " 4   display_name        263591 non-null  object \n",
      " 5   comment             263591 non-null  object \n",
      " 6   title               263591 non-null  object \n",
      " 7   is_paid             263591 non-null  bool   \n",
      " 8   price               263591 non-null  float64\n",
      " 9   headline            263591 non-null  object \n",
      " 10  num_subscribers     263591 non-null  int64  \n",
      " 11  avg_rating          263591 non-null  float64\n",
      " 12  num_reviews         263591 non-null  int64  \n",
      " 13  num_comments        263591 non-null  int64  \n",
      " 14  num_lectures        263591 non-null  int64  \n",
      " 15  content_length_min  263591 non-null  int64  \n",
      " 16  published_time      263591 non-null  object \n",
      " 17  last_update_date    263591 non-null  object \n",
      " 18  category            263591 non-null  object \n",
      " 19  subcategory         263591 non-null  object \n",
      " 20  topic               263591 non-null  object \n",
      " 21  language            263591 non-null  object \n",
      " 22  course_url          263591 non-null  object \n",
      " 23  instructor_name     263591 non-null  object \n",
      " 24  instructor_url      263591 non-null  object \n",
      " 25  image               263591 non-null  object \n",
      "dtypes: bool(1), float64(3), int64(7), object(15)\n",
      "memory usage: 50.5+ MB\n"
     ]
    }
   ],
   "source": [
    "df.info()"
   ]
  },
  {
   "cell_type": "code",
   "execution_count": 4,
   "id": "df085940-edbe-4fdb-a880-b153fda0722b",
   "metadata": {},
   "outputs": [
    {
     "data": {
      "text/html": [
       "<div>\n",
       "<style scoped>\n",
       "    .dataframe tbody tr th:only-of-type {\n",
       "        vertical-align: middle;\n",
       "    }\n",
       "\n",
       "    .dataframe tbody tr th {\n",
       "        vertical-align: top;\n",
       "    }\n",
       "\n",
       "    .dataframe thead th {\n",
       "        text-align: right;\n",
       "    }\n",
       "</style>\n",
       "<table border=\"1\" class=\"dataframe\">\n",
       "  <thead>\n",
       "    <tr style=\"text-align: right;\">\n",
       "      <th></th>\n",
       "      <th>id</th>\n",
       "      <th>course_id</th>\n",
       "      <th>rate</th>\n",
       "      <th>price</th>\n",
       "      <th>num_subscribers</th>\n",
       "      <th>avg_rating</th>\n",
       "      <th>num_reviews</th>\n",
       "      <th>num_comments</th>\n",
       "      <th>num_lectures</th>\n",
       "      <th>content_length_min</th>\n",
       "    </tr>\n",
       "  </thead>\n",
       "  <tbody>\n",
       "    <tr>\n",
       "      <th>count</th>\n",
       "      <td>2.635910e+05</td>\n",
       "      <td>2.635910e+05</td>\n",
       "      <td>263591.000000</td>\n",
       "      <td>263591.000000</td>\n",
       "      <td>2.635910e+05</td>\n",
       "      <td>263591.000000</td>\n",
       "      <td>263591.000000</td>\n",
       "      <td>263591.000000</td>\n",
       "      <td>263591.000000</td>\n",
       "      <td>263591.000000</td>\n",
       "    </tr>\n",
       "    <tr>\n",
       "      <th>mean</th>\n",
       "      <td>5.397532e+07</td>\n",
       "      <td>1.429893e+06</td>\n",
       "      <td>4.511156</td>\n",
       "      <td>125.074798</td>\n",
       "      <td>1.303498e+05</td>\n",
       "      <td>4.494498</td>\n",
       "      <td>28634.049725</td>\n",
       "      <td>4176.916905</td>\n",
       "      <td>143.095383</td>\n",
       "      <td>845.318501</td>\n",
       "    </tr>\n",
       "    <tr>\n",
       "      <th>std</th>\n",
       "      <td>3.754004e+07</td>\n",
       "      <td>1.035494e+06</td>\n",
       "      <td>0.856821</td>\n",
       "      <td>79.077778</td>\n",
       "      <td>2.370600e+05</td>\n",
       "      <td>0.267774</td>\n",
       "      <td>60968.119960</td>\n",
       "      <td>7419.218059</td>\n",
       "      <td>163.088042</td>\n",
       "      <td>1000.153932</td>\n",
       "    </tr>\n",
       "    <tr>\n",
       "      <th>min</th>\n",
       "      <td>1.620000e+02</td>\n",
       "      <td>2.762000e+03</td>\n",
       "      <td>0.500000</td>\n",
       "      <td>0.000000</td>\n",
       "      <td>1.000000e+00</td>\n",
       "      <td>1.000000</td>\n",
       "      <td>1.000000</td>\n",
       "      <td>1.000000</td>\n",
       "      <td>3.000000</td>\n",
       "      <td>19.000000</td>\n",
       "    </tr>\n",
       "    <tr>\n",
       "      <th>25%</th>\n",
       "      <td>1.944084e+07</td>\n",
       "      <td>6.715440e+05</td>\n",
       "      <td>4.000000</td>\n",
       "      <td>49.990000</td>\n",
       "      <td>7.531000e+03</td>\n",
       "      <td>4.423077</td>\n",
       "      <td>796.000000</td>\n",
       "      <td>171.000000</td>\n",
       "      <td>37.000000</td>\n",
       "      <td>188.000000</td>\n",
       "    </tr>\n",
       "    <tr>\n",
       "      <th>50%</th>\n",
       "      <td>5.027853e+07</td>\n",
       "      <td>1.185408e+06</td>\n",
       "      <td>5.000000</td>\n",
       "      <td>149.990000</td>\n",
       "      <td>3.216500e+04</td>\n",
       "      <td>4.560638</td>\n",
       "      <td>4634.000000</td>\n",
       "      <td>833.000000</td>\n",
       "      <td>79.000000</td>\n",
       "      <td>466.000000</td>\n",
       "    </tr>\n",
       "    <tr>\n",
       "      <th>75%</th>\n",
       "      <td>8.279983e+07</td>\n",
       "      <td>1.920686e+06</td>\n",
       "      <td>5.000000</td>\n",
       "      <td>199.990000</td>\n",
       "      <td>1.446570e+05</td>\n",
       "      <td>4.650000</td>\n",
       "      <td>26675.000000</td>\n",
       "      <td>4289.000000</td>\n",
       "      <td>181.000000</td>\n",
       "      <td>1163.000000</td>\n",
       "    </tr>\n",
       "    <tr>\n",
       "      <th>max</th>\n",
       "      <td>1.267086e+08</td>\n",
       "      <td>4.908728e+06</td>\n",
       "      <td>5.000000</td>\n",
       "      <td>999.000000</td>\n",
       "      <td>1.612862e+06</td>\n",
       "      <td>5.000000</td>\n",
       "      <td>436457.000000</td>\n",
       "      <td>39040.000000</td>\n",
       "      <td>1095.000000</td>\n",
       "      <td>12082.000000</td>\n",
       "    </tr>\n",
       "  </tbody>\n",
       "</table>\n",
       "</div>"
      ],
      "text/plain": [
       "                 id     course_id           rate          price  \\\n",
       "count  2.635910e+05  2.635910e+05  263591.000000  263591.000000   \n",
       "mean   5.397532e+07  1.429893e+06       4.511156     125.074798   \n",
       "std    3.754004e+07  1.035494e+06       0.856821      79.077778   \n",
       "min    1.620000e+02  2.762000e+03       0.500000       0.000000   \n",
       "25%    1.944084e+07  6.715440e+05       4.000000      49.990000   \n",
       "50%    5.027853e+07  1.185408e+06       5.000000     149.990000   \n",
       "75%    8.279983e+07  1.920686e+06       5.000000     199.990000   \n",
       "max    1.267086e+08  4.908728e+06       5.000000     999.000000   \n",
       "\n",
       "       num_subscribers     avg_rating    num_reviews   num_comments  \\\n",
       "count     2.635910e+05  263591.000000  263591.000000  263591.000000   \n",
       "mean      1.303498e+05       4.494498   28634.049725    4176.916905   \n",
       "std       2.370600e+05       0.267774   60968.119960    7419.218059   \n",
       "min       1.000000e+00       1.000000       1.000000       1.000000   \n",
       "25%       7.531000e+03       4.423077     796.000000     171.000000   \n",
       "50%       3.216500e+04       4.560638    4634.000000     833.000000   \n",
       "75%       1.446570e+05       4.650000   26675.000000    4289.000000   \n",
       "max       1.612862e+06       5.000000  436457.000000   39040.000000   \n",
       "\n",
       "        num_lectures  content_length_min  \n",
       "count  263591.000000       263591.000000  \n",
       "mean      143.095383          845.318501  \n",
       "std       163.088042         1000.153932  \n",
       "min         3.000000           19.000000  \n",
       "25%        37.000000          188.000000  \n",
       "50%        79.000000          466.000000  \n",
       "75%       181.000000         1163.000000  \n",
       "max      1095.000000        12082.000000  "
      ]
     },
     "execution_count": 4,
     "metadata": {},
     "output_type": "execute_result"
    }
   ],
   "source": [
    "df.describe()"
   ]
  },
  {
   "cell_type": "markdown",
   "id": "f2797163-0e1d-4925-80a4-349ca68f6e1c",
   "metadata": {},
   "source": [
    "### Exploratory Data Analysis"
   ]
  },
  {
   "cell_type": "code",
   "execution_count": 5,
   "id": "b57a2458-1da3-4ddc-8338-5f7255274121",
   "metadata": {},
   "outputs": [],
   "source": [
    "def feature_count(df:pd.DataFrame, column:str) -> pd.DataFrame:\n",
    "\n",
    "    counts = df.groupby(column).size().reset_index(name='count')\n",
    "    return counts.sort_values(by='count', ascending=False)"
   ]
  },
  {
   "cell_type": "code",
   "execution_count": 6,
   "id": "83e6a559-68de-471f-8966-29e38b566428",
   "metadata": {},
   "outputs": [
    {
     "data": {
      "image/png": "[encoded data removed]",
      "text/plain": [
       "<Figure size 1500x500 with 1 Axes>"
      ]
     },
     "metadata": {},
     "output_type": "display_data"
    }
   ],
   "source": [
    "df_category = feature_count(df, 'category')[:5]\n",
    "\n",
    "plt.figure(figsize=(15,5))\n",
    "ax = sns.barplot(x=df_category['count'], y=df_category['category'], palette='Blues_r')\n",
    "\n",
    "for label in ax.containers:\n",
    "    ax.bar_label(label)\n",
    "ax.set(xlabel='', ylabel='', title='Top 5 Categories of Udemy Courses')\n",
    "plt.show()"
   ]
  },
  {
   "cell_type": "code",
   "execution_count": 7,
   "id": "29bde70f-b75f-439c-916c-e2cef309b639",
   "metadata": {},
   "outputs": [
    {
     "data": {
      "image/png": "[encoded data removed]",
      "text/plain": [
       "<Figure size 2000x1000 with 1 Axes>"
      ]
     },
     "metadata": {},
     "output_type": "display_data"
    }
   ],
   "source": [
    "df_subcategory = feature_count(df, 'subcategory')[:10]\n",
    "\n",
    "plt.figure(figsize=(20,10))\n",
    "ax = sns.barplot(x=df_subcategory['count'], y=df_subcategory['subcategory'], palette='Blues_r')\n",
    "\n",
    "for label in ax.containers:\n",
    "    ax.bar_label(label)\n",
    "ax.set(xlabel='', ylabel='', title='Top 10 subcategories of Udemy Courses')\n",
    "plt.show()"
   ]
  },
  {
   "cell_type": "code",
   "execution_count": 8,
   "id": "4fdfbeff-37fa-4635-9f9e-d769c9dd2ae5",
   "metadata": {},
   "outputs": [
    {
     "data": {
      "image/png": "[encoded data removed]",
      "text/plain": [
       "<Figure size 1500x700 with 1 Axes>"
      ]
     },
     "metadata": {},
     "output_type": "display_data"
    }
   ],
   "source": [
    "def subcategory_plot(df:pd.DataFrame, category:str):\n",
    "\n",
    "    development = df[df['category']==category]\n",
    "    df_dev = development.groupby('subcategory').size().reset_index(name='count')\n",
    "    df_dev = df_dev.sort_values(by='count', ascending=False)\n",
    "    \n",
    "    plt.figure(figsize=(15,7))\n",
    "    ax = sns.barplot(x=df_dev['count'], y=df_dev['subcategory'], palette='Blues_r')\n",
    "    \n",
    "    for label in ax.containers:\n",
    "        ax.bar_label(label)\n",
    "    ax.set(xlabel='', ylabel='', title=f'{category} subcategories courses')\n",
    "    plt.show()\n",
    "\n",
    "subcategory_plot(df, 'Development')"
   ]
  },
  {
   "cell_type": "code",
   "execution_count": 9,
   "id": "896da56b-b686-4a92-b580-1a678ab2a092",
   "metadata": {},
   "outputs": [
    {
     "data": {
      "text/html": [
       "<div>\n",
       "<style scoped>\n",
       "    .dataframe tbody tr th:only-of-type {\n",
       "        vertical-align: middle;\n",
       "    }\n",
       "\n",
       "    .dataframe tbody tr th {\n",
       "        vertical-align: top;\n",
       "    }\n",
       "\n",
       "    .dataframe thead th {\n",
       "        text-align: right;\n",
       "    }\n",
       "</style>\n",
       "<table border=\"1\" class=\"dataframe\">\n",
       "  <thead>\n",
       "    <tr style=\"text-align: right;\">\n",
       "      <th></th>\n",
       "      <th>title</th>\n",
       "      <th>category</th>\n",
       "      <th>num_subscribers</th>\n",
       "    </tr>\n",
       "  </thead>\n",
       "  <tbody>\n",
       "    <tr>\n",
       "      <th>0</th>\n",
       "      <td>2022 Complete Python Bootcamp From Zero to Her...</td>\n",
       "      <td>Development</td>\n",
       "      <td>1612862</td>\n",
       "    </tr>\n",
       "    <tr>\n",
       "      <th>1</th>\n",
       "      <td>Microsoft Excel - Excel from Beginner to Advanced</td>\n",
       "      <td>Office Productivity</td>\n",
       "      <td>1108811</td>\n",
       "    </tr>\n",
       "    <tr>\n",
       "      <th>2</th>\n",
       "      <td>The Complete Digital Marketing Course - 12 Cou...</td>\n",
       "      <td>Marketing</td>\n",
       "      <td>706339</td>\n",
       "    </tr>\n",
       "    <tr>\n",
       "      <th>3</th>\n",
       "      <td>Ultimate AWS Certified Solutions Architect Ass...</td>\n",
       "      <td>IT &amp; Software</td>\n",
       "      <td>640699</td>\n",
       "    </tr>\n",
       "    <tr>\n",
       "      <th>4</th>\n",
       "      <td>The Complete SQL Bootcamp 2022: Go from Zero t...</td>\n",
       "      <td>Business</td>\n",
       "      <td>574046</td>\n",
       "    </tr>\n",
       "    <tr>\n",
       "      <th>5</th>\n",
       "      <td>Adobe Photoshop CC: A Beginner to Advanced Pho...</td>\n",
       "      <td>Design</td>\n",
       "      <td>510784</td>\n",
       "    </tr>\n",
       "    <tr>\n",
       "      <th>6</th>\n",
       "      <td>Adobe Premiere Pro CC Masterclass: Video Editi...</td>\n",
       "      <td>Photography &amp; Video</td>\n",
       "      <td>436304</td>\n",
       "    </tr>\n",
       "    <tr>\n",
       "      <th>7</th>\n",
       "      <td>The Complete Financial Analyst Course 2022</td>\n",
       "      <td>Finance &amp; Accounting</td>\n",
       "      <td>356765</td>\n",
       "    </tr>\n",
       "    <tr>\n",
       "      <th>8</th>\n",
       "      <td>Pianoforall - Incredible New Way To Learn Pian...</td>\n",
       "      <td>Music</td>\n",
       "      <td>355854</td>\n",
       "    </tr>\n",
       "    <tr>\n",
       "      <th>9</th>\n",
       "      <td>Reiki Level I, II and Master/Teacher Program</td>\n",
       "      <td>Lifestyle</td>\n",
       "      <td>168956</td>\n",
       "    </tr>\n",
       "    <tr>\n",
       "      <th>10</th>\n",
       "      <td>Cognitive Behavioural Therapy (CBT) Practition...</td>\n",
       "      <td>Health &amp; Fitness</td>\n",
       "      <td>149943</td>\n",
       "    </tr>\n",
       "    <tr>\n",
       "      <th>11</th>\n",
       "      <td>Think Like a Leader with Brian Tracy</td>\n",
       "      <td>Personal Development</td>\n",
       "      <td>21835</td>\n",
       "    </tr>\n",
       "    <tr>\n",
       "      <th>12</th>\n",
       "      <td>CAPM® Certification: Ultimate CAPM Exam Prep-2...</td>\n",
       "      <td>Teaching &amp; Academics</td>\n",
       "      <td>14319</td>\n",
       "    </tr>\n",
       "  </tbody>\n",
       "</table>\n",
       "</div>"
      ],
      "text/plain": [
       "                                                title              category  \\\n",
       "0   2022 Complete Python Bootcamp From Zero to Her...           Development   \n",
       "1   Microsoft Excel - Excel from Beginner to Advanced   Office Productivity   \n",
       "2   The Complete Digital Marketing Course - 12 Cou...             Marketing   \n",
       "3   Ultimate AWS Certified Solutions Architect Ass...         IT & Software   \n",
       "4   The Complete SQL Bootcamp 2022: Go from Zero t...              Business   \n",
       "5   Adobe Photoshop CC: A Beginner to Advanced Pho...                Design   \n",
       "6   Adobe Premiere Pro CC Masterclass: Video Editi...   Photography & Video   \n",
       "7          The Complete Financial Analyst Course 2022  Finance & Accounting   \n",
       "8   Pianoforall - Incredible New Way To Learn Pian...                 Music   \n",
       "9        Reiki Level I, II and Master/Teacher Program             Lifestyle   \n",
       "10  Cognitive Behavioural Therapy (CBT) Practition...      Health & Fitness   \n",
       "11               Think Like a Leader with Brian Tracy  Personal Development   \n",
       "12  CAPM® Certification: Ultimate CAPM Exam Prep-2...  Teaching & Academics   \n",
       "\n",
       "    num_subscribers  \n",
       "0           1612862  \n",
       "1           1108811  \n",
       "2            706339  \n",
       "3            640699  \n",
       "4            574046  \n",
       "5            510784  \n",
       "6            436304  \n",
       "7            356765  \n",
       "8            355854  \n",
       "9            168956  \n",
       "10           149943  \n",
       "11            21835  \n",
       "12            14319  "
      ]
     },
     "execution_count": 9,
     "metadata": {},
     "output_type": "execute_result"
    }
   ],
   "source": [
    "# Get top courses by categories according to highest num_subscribers\n",
    "most_popular_courses = df.sort_values(by='num_subscribers', ascending=False).groupby('category').head(1)\n",
    "most_popular = most_popular_courses[['title', 'category','num_subscribers']].reset_index(drop=True)\n",
    "most_popular.sort_values(by='num_subscribers', ascending=False)"
   ]
  },
  {
   "cell_type": "code",
   "execution_count": 10,
   "id": "c83c63af-205f-4543-8fae-629a1d109d3d",
   "metadata": {},
   "outputs": [
    {
     "data": {
      "image/png": "[encoded data removed]",
      "text/plain": [
       "<Figure size 1000x500 with 1 Axes>"
      ]
     },
     "metadata": {},
     "output_type": "display_data"
    }
   ],
   "source": [
    "topic_count = df.groupby('topic').size().reset_index(name='count')\n",
    "top_topic = topic_count.sort_values(by='count', ascending=False)[:5]\n",
    "\n",
    "plt.figure(figsize=(10,5))\n",
    "ax = sns.barplot(x=top_topic['topic'], y=top_topic['count'], palette='Blues_r')\n",
    "\n",
    "for label in ax.containers:\n",
    "    ax.bar_label(label)\n",
    "\n",
    "ax.set(xlabel='', ylabel='Count', title=' Top 5 topic courses in total')\n",
    "plt.show()"
   ]
  },
  {
   "cell_type": "markdown",
   "id": "3009ca26-1c0b-4be6-a924-390cf2b476b0",
   "metadata": {},
   "source": [
    "## Recommendation System - Collaborative Filtering\n",
    "\n",
    "This section will be our processes to get the recommendation. There are two approaches that we want to do\n",
    "\n",
    "1. Get the similar courses after the user input what course that they want to watched\n",
    "2. Give recommendation for the user based on historical watched\n",
    "\n",
    "Also, we will use 2 libraries to extract the similarity information and get the recommendation; `sklearn` and `surprise` libraries"
   ]
  },
  {
   "cell_type": "markdown",
   "id": "ed64a28e-d8fe-4867-9dae-750db4796d73",
   "metadata": {},
   "source": [
    "### 1. KNN Recommender System - sklearn"
   ]
  },
  {
   "cell_type": "code",
   "execution_count": 11,
   "id": "c996bd79-3a29-445d-b0e5-40c97b65761b",
   "metadata": {},
   "outputs": [],
   "source": [
    "from scipy.sparse import csr_matrix\n",
    "\n",
    "def create_X(df):\n",
    "    \"\"\"\n",
    "    Generates a sparse matrix from ratings dataframe.\n",
    "    \n",
    "    Args:\n",
    "        df: pandas dataframe containing 3 columns (user_name, course_id, rate)\n",
    "    \n",
    "    Returns:\n",
    "        X: sparse matrix\n",
    "        user_mapper: dict that maps user id's to user indices\n",
    "        user_inv_mapper: dict that maps user indices to user id's\n",
    "        course_mapper: dict that maps course id's to course indices\n",
    "        course_inv_mapper: dict that maps course indices to course id's\n",
    "    \"\"\"\n",
    "    \n",
    "    M = df['user_name'].nunique()\n",
    "    N = df['course_id'].nunique()\n",
    "\n",
    "    user_mapper = dict(zip(np.unique(df[\"user_name\"]), list(range(M))))\n",
    "    course_mapper = dict(zip(np.unique(df[\"course_id\"]), list(range(N))))\n",
    "    \n",
    "    user_inv_mapper = dict(zip(list(range(M)), np.unique(df[\"user_name\"])))\n",
    "    course_inv_mapper = dict(zip(list(range(N)), np.unique(df[\"course_id\"])))\n",
    "    \n",
    "    user_index = [user_mapper[i] for i in df['user_name']]\n",
    "    item_index = [course_mapper[i] for i in df['course_id']]\n",
    "\n",
    "    X = csr_matrix((df[\"rate\"], (user_index,item_index)), shape=(M,N))\n",
    "    \n",
    "    return X, user_mapper, course_mapper, user_inv_mapper, course_inv_mapper"
   ]
  },
  {
   "cell_type": "code",
   "execution_count": 12,
   "id": "97447045-004c-4ce9-a99e-9d57122a3c6a",
   "metadata": {},
   "outputs": [],
   "source": [
    "df = df.rename(columns={'display_name' : 'user_name'})\n",
    "\n",
    "course_data = df[['user_name', 'course_id', 'rate']]\n",
    "\n",
    "X, user_mapper, course_mapper, user_inv_mapper, course_inv_mapper = create_X(course_data)"
   ]
  },
  {
   "cell_type": "code",
   "execution_count": 13,
   "id": "1bd0b559-33cc-4ae0-a2f8-756fd2c34b43",
   "metadata": {},
   "outputs": [
    {
     "data": {
      "text/plain": [
       "(81548, 30484)"
      ]
     },
     "execution_count": 13,
     "metadata": {},
     "output_type": "execute_result"
    }
   ],
   "source": [
    "X.shape"
   ]
  },
  {
   "cell_type": "code",
   "execution_count": 14,
   "id": "0e590f31-4c71-4090-9a37-9d4a6ea8aec1",
   "metadata": {},
   "outputs": [
    {
     "name": "stdout",
     "output_type": "stream",
     "text": [
      "Matrix sparsity: 0.01%\n"
     ]
    }
   ],
   "source": [
    "n_total = X.shape[0]*X.shape[1]\n",
    "n_ratings = X.nnz\n",
    "sparsity = n_ratings/n_total\n",
    "print(f\"Matrix sparsity: {round(sparsity*100,2)}%\")"
   ]
  },
  {
   "cell_type": "code",
   "execution_count": 15,
   "id": "19e7bd5b-f546-4c29-8469-6b3a463d48c1",
   "metadata": {},
   "outputs": [
    {
     "data": {
      "text/plain": [
       "81548"
      ]
     },
     "execution_count": 15,
     "metadata": {},
     "output_type": "execute_result"
    }
   ],
   "source": [
    "n_ratings_per_user = X.getnnz(axis=1)\n",
    "len(n_ratings_per_user)"
   ]
  },
  {
   "cell_type": "code",
   "execution_count": 16,
   "id": "b62a3bc0-d0b8-4b28-821f-27a5b15ac08f",
   "metadata": {},
   "outputs": [
    {
     "name": "stdout",
     "output_type": "stream",
     "text": [
      "Most active user rated 2199 courses.\n",
      "Least active user rated 1 courses.\n"
     ]
    }
   ],
   "source": [
    "print(f\"Most active user rated {n_ratings_per_user.max()} courses.\")\n",
    "print(f\"Least active user rated {n_ratings_per_user.min()} courses.\")"
   ]
  },
  {
   "cell_type": "code",
   "execution_count": 17,
   "id": "68cd88e2-3ec8-464c-b905-534ca6828666",
   "metadata": {},
   "outputs": [
    {
     "data": {
      "text/plain": [
       "30484"
      ]
     },
     "execution_count": 17,
     "metadata": {},
     "output_type": "execute_result"
    }
   ],
   "source": [
    "n_ratings_per_course = X.getnnz(axis=0)\n",
    "len(n_ratings_per_course)"
   ]
  },
  {
   "cell_type": "code",
   "execution_count": 18,
   "id": "80e181bc-2694-46ed-9075-9aa7dca9dd0f",
   "metadata": {},
   "outputs": [
    {
     "name": "stdout",
     "output_type": "stream",
     "text": [
      "Most rated course has 1535 ratings.\n",
      "Least rated course has 1 ratings.\n"
     ]
    }
   ],
   "source": [
    "print(f\"Most rated course has {n_ratings_per_course.max()} ratings.\")\n",
    "print(f\"Least rated course has {n_ratings_per_course.min()} ratings.\")"
   ]
  },
  {
   "cell_type": "code",
   "execution_count": 19,
   "id": "32f39ee7-1df3-4030-92be-e51f8fe59b19",
   "metadata": {},
   "outputs": [
    {
     "data": {
      "image/png": "[encoded data removed]",
      "text/plain": [
       "<Figure size 1600x400 with 2 Axes>"
      ]
     },
     "metadata": {},
     "output_type": "display_data"
    }
   ],
   "source": [
    "plt.figure(figsize=(16,4))\n",
    "plt.subplot(1,2,1)\n",
    "sns.kdeplot(n_ratings_per_user, shade=True)\n",
    "plt.xlim(0, 500)\n",
    "plt.title(\"Number of Ratings Per User\", fontsize=14)\n",
    "plt.xlabel(\"number of ratings per user\")\n",
    "plt.ylabel(\"density\")\n",
    "plt.subplot(1,2,2)\n",
    "sns.kdeplot(n_ratings_per_course, shade=True)\n",
    "plt.xlim(0, 200)\n",
    "plt.title(\"Number of Ratings Per course\", fontsize=14)\n",
    "plt.xlabel(\"number of ratings per course\")\n",
    "plt.ylabel(\"density\")\n",
    "plt.show()"
   ]
  },
  {
   "cell_type": "code",
   "execution_count": 20,
   "id": "ebc56bd0-6bef-421b-acc5-7e3b50915451",
   "metadata": {},
   "outputs": [],
   "source": [
    "from sklearn.neighbors import NearestNeighbors\n",
    "\n",
    "def find_similar_courses(course_id, X, course_mapper, course_inv_mapper, k, metric='cosine'):\n",
    "    \"\"\"\n",
    "    Finds k-nearest neighbours for a given course id.\n",
    "    \n",
    "    Args:\n",
    "        movie_id: id of the course of interest\n",
    "        X: user-item utility matrix\n",
    "        k: number of similar course to retrieve\n",
    "        metric: distance metric for kNN calculations\n",
    "    \n",
    "    Output: returns list of k similar course ID's\n",
    "    \"\"\"\n",
    "    X = X.T\n",
    "    neighbour_ids = []\n",
    "    \n",
    "    course_ind = course_mapper[course_id]\n",
    "    course_vec = X[course_ind]\n",
    "    if isinstance(course_vec, (np.ndarray)):\n",
    "        course_vec = course_vec.reshape(1,-1)\n",
    "        \n",
    "    # use k+1 since kNN output includes the course id of interest\n",
    "    kNN = NearestNeighbors(n_neighbors=k+1, algorithm=\"brute\", metric=metric)\n",
    "    kNN.fit(X)\n",
    "    neighbour = kNN.kneighbors(course_vec, return_distance=False)\n",
    "    \n",
    "    for i in range(0,k):\n",
    "        n = neighbour.item(i)\n",
    "        neighbour_ids.append(course_inv_mapper[n])\n",
    "    neighbour_ids.pop(0)\n",
    "    \n",
    "    return neighbour_ids"
   ]
  },
  {
   "cell_type": "code",
   "execution_count": 21,
   "id": "431ec23b-b214-48ed-9bac-2ce736b92969",
   "metadata": {},
   "outputs": [],
   "source": [
    "# searching for the title of interest; give 10 nearest titles\n",
    "unique_title = df.drop_duplicates(subset='title').reset_index(drop=True)[['course_id', 'title']]"
   ]
  },
  {
   "cell_type": "code",
   "execution_count": 22,
   "id": "6ad63381-8908-4576-ad7b-c6733da22a02",
   "metadata": {},
   "outputs": [],
   "source": [
    "from sklearn.feature_extraction.text import TfidfVectorizer\n",
    "from sklearn.metrics.pairwise import cosine_similarity\n",
    "\n",
    "vectorizer = TfidfVectorizer(ngram_range=(1,2))\n",
    "\n",
    "tfidf = vectorizer.fit_transform(unique_title['title'])"
   ]
  },
  {
   "cell_type": "code",
   "execution_count": 23,
   "id": "9a86189f-a64a-4712-9562-5735eef0ae1d",
   "metadata": {},
   "outputs": [],
   "source": [
    "def search(title):\n",
    "    query_vec = vectorizer.transform([title])\n",
    "    similarity = cosine_similarity(query_vec, tfidf).flatten()\n",
    "    indices = np.argpartition(similarity, -5)[-5:]\n",
    "    results = unique_title.iloc[indices].iloc[::-1]\n",
    "    \n",
    "    return results.reset_index(drop=True)"
   ]
  },
  {
   "cell_type": "code",
   "execution_count": 24,
   "id": "d03567a5-13f8-48ca-9348-87c43d0c46a1",
   "metadata": {},
   "outputs": [
    {
     "data": {
      "text/html": [
       "<div>\n",
       "<style scoped>\n",
       "    .dataframe tbody tr th:only-of-type {\n",
       "        vertical-align: middle;\n",
       "    }\n",
       "\n",
       "    .dataframe tbody tr th {\n",
       "        vertical-align: top;\n",
       "    }\n",
       "\n",
       "    .dataframe thead th {\n",
       "        text-align: right;\n",
       "    }\n",
       "</style>\n",
       "<table border=\"1\" class=\"dataframe\">\n",
       "  <thead>\n",
       "    <tr style=\"text-align: right;\">\n",
       "      <th></th>\n",
       "      <th>course_id</th>\n",
       "      <th>title</th>\n",
       "    </tr>\n",
       "  </thead>\n",
       "  <tbody>\n",
       "    <tr>\n",
       "      <th>0</th>\n",
       "      <td>2361148</td>\n",
       "      <td>Machine Learning Guide: Learn Machine Learning...</td>\n",
       "    </tr>\n",
       "    <tr>\n",
       "      <th>1</th>\n",
       "      <td>1568060</td>\n",
       "      <td>Machine Learning In The Cloud With Azure Machi...</td>\n",
       "    </tr>\n",
       "    <tr>\n",
       "      <th>2</th>\n",
       "      <td>3914652</td>\n",
       "      <td>2022 Machine Learning A to Z : 5 Machine Learn...</td>\n",
       "    </tr>\n",
       "    <tr>\n",
       "      <th>3</th>\n",
       "      <td>2674092</td>\n",
       "      <td>Machine Learning 2022: Complete Maths for Mach...</td>\n",
       "    </tr>\n",
       "    <tr>\n",
       "      <th>4</th>\n",
       "      <td>1955654</td>\n",
       "      <td>Machine Learning with Javascript</td>\n",
       "    </tr>\n",
       "  </tbody>\n",
       "</table>\n",
       "</div>"
      ],
      "text/plain": [
       "   course_id                                              title\n",
       "0    2361148  Machine Learning Guide: Learn Machine Learning...\n",
       "1    1568060  Machine Learning In The Cloud With Azure Machi...\n",
       "2    3914652  2022 Machine Learning A to Z : 5 Machine Learn...\n",
       "3    2674092  Machine Learning 2022: Complete Maths for Mach...\n",
       "4    1955654                   Machine Learning with Javascript"
      ]
     },
     "execution_count": 24,
     "metadata": {},
     "output_type": "execute_result"
    }
   ],
   "source": [
    "searching = search('Machine Learning')\n",
    "searching"
   ]
  },
  {
   "cell_type": "code",
   "execution_count": 25,
   "id": "3f181d3d-f62b-4f0e-933d-096bb41c381d",
   "metadata": {},
   "outputs": [],
   "source": [
    "num = 2\n",
    "course_id = searching.iloc[num]['course_id']\n",
    "similar_courses = find_similar_courses(course_id, X, course_mapper, course_inv_mapper, metric='cosine', k=10)"
   ]
  },
  {
   "cell_type": "code",
   "execution_count": 26,
   "id": "89ad9c8e-858c-4b7d-bf76-ea89ab306974",
   "metadata": {},
   "outputs": [],
   "source": [
    "course_mapping = dict(zip(df['course_id'], df['title']))"
   ]
  },
  {
   "cell_type": "code",
   "execution_count": 27,
   "id": "d5e0a98e-1102-421a-8112-ce1fd294ca22",
   "metadata": {},
   "outputs": [],
   "source": [
    "course_title = searching.iloc[num]['title']"
   ]
  },
  {
   "cell_type": "code",
   "execution_count": 28,
   "id": "a5166ae1-935a-427d-a579-6ff00c674825",
   "metadata": {},
   "outputs": [
    {
     "name": "stdout",
     "output_type": "stream",
     "text": [
      "Because you watched 2022 Machine Learning A to Z : 5 Machine Learning Projects:\n",
      "\n",
      "The Complete Fitness & Health Masterclass - 21 Courses in 1\n",
      "US Regulatory Strategy for Biologics & Pharmaceutical Drugs\n",
      "ACCA: AB (F1) Accountant in Business\n",
      "Learn Excel Fast\n",
      "Cold Call University: Courses 101 to 401 - All Courses!\n",
      "Business Continuity Management & ISO 22301 - Complete Guide\n",
      "Scientific Python: Data Science Visualization Bundle 18 Hrs!\n",
      "How to Draw Lips\n",
      "Kettlebell Workouts Follow-Along\n"
     ]
    }
   ],
   "source": [
    "print(f\"Because you watched {course_title}:\")\n",
    "print()\n",
    "for i in similar_courses:\n",
    "    print(course_mapping[i])"
   ]
  },
  {
   "cell_type": "markdown",
   "id": "8e9887bd-22f5-4fce-a707-d1e5ff45b403",
   "metadata": {},
   "source": [
    "### 2. KNN with Means Recommender System - surprise"
   ]
  },
  {
   "cell_type": "code",
   "execution_count": 29,
   "id": "9b211c08-55fb-4f9f-b76d-d353c4814927",
   "metadata": {},
   "outputs": [],
   "source": [
    "import os\n",
    "\n",
    "from surprise import Dataset                                                   \n",
    "from surprise import Reader \n",
    "from surprise import KNNBasic, KNNWithMeans\n",
    "\n",
    "from surprise.model_selection import train_test_split\n",
    "from surprise.accuracy import rmse, mae\n",
    "\n",
    "from surprise import dump"
   ]
  },
  {
   "cell_type": "code",
   "execution_count": 30,
   "id": "b3a9fd58-4247-42e9-9b33-881db68841ff",
   "metadata": {},
   "outputs": [],
   "source": [
    "# the model takes 3 features; id, course_id\n",
    "reader = Reader(rating_scale=(0,5))\n",
    "data = Dataset.load_from_df(course_data, reader)\n",
    "\n",
    "train_data, test_data = train_test_split(data, test_size=0.3, random_state=42)"
   ]
  },
  {
   "cell_type": "code",
   "execution_count": 36,
   "id": "93ad4082-c4bf-4bab-8240-1bbb28bec32d",
   "metadata": {},
   "outputs": [
    {
     "name": "stdout",
     "output_type": "stream",
     "text": [
      "Computing the cosine similarity matrix...\n",
      "Done computing similarity matrix.\n"
     ]
    }
   ],
   "source": [
    "# item-based approach\n",
    "sim_options = {'name' : 'cosine',\n",
    "               'user_based' : False}\n",
    "\n",
    "# KNN with means; means of rating\n",
    "knn = KNNWithMeans(k=5, sim_options=sim_options, verbose=True)\n",
    "knn.fit(train_data)\n",
    "\n",
    "predictions = knn.test(test_data)"
   ]
  },
  {
   "cell_type": "code",
   "execution_count": 37,
   "id": "879196fd-aeb6-4da5-a405-9f423287b074",
   "metadata": {},
   "outputs": [],
   "source": [
    "# save the predictions to be used later in creating web app using streamlit\n",
    "file_name = os.path.expanduser(\"../predictions/knn_collaborative_filtering\")\n",
    "dump.dump(file_name, predictions=predictions, algo=None)"
   ]
  },
  {
   "cell_type": "code",
   "execution_count": 38,
   "id": "a6faa2dc-006e-4844-aca3-602115541da6",
   "metadata": {},
   "outputs": [
    {
     "name": "stdout",
     "output_type": "stream",
     "text": [
      "RMSE: 0.9206\n"
     ]
    },
    {
     "data": {
      "text/plain": [
       "0.9205689560163731"
      ]
     },
     "execution_count": 38,
     "metadata": {},
     "output_type": "execute_result"
    }
   ],
   "source": [
    "rmse(predictions, verbose=True)"
   ]
  },
  {
   "cell_type": "code",
   "execution_count": 39,
   "id": "297d1117-2258-4d32-b8ef-025957d8aebc",
   "metadata": {},
   "outputs": [
    {
     "name": "stdout",
     "output_type": "stream",
     "text": [
      "MAE:  0.6232\n"
     ]
    },
    {
     "data": {
      "text/plain": [
       "0.6231974682770866"
      ]
     },
     "execution_count": 39,
     "metadata": {},
     "output_type": "execute_result"
    }
   ],
   "source": [
    "mae(predictions, verbose=True)"
   ]
  },
  {
   "cell_type": "code",
   "execution_count": 40,
   "id": "897e8dbd-12d7-41d6-9dd3-16f367f930f0",
   "metadata": {},
   "outputs": [],
   "source": [
    "def get_top_n(predictions, user_name, course_df, ratings_df, n = 10):\n",
    "    '''Return the top N (default) movieId for a user,.i.e. userID and history for comparisom\n",
    "    Args:\n",
    "    Returns: \n",
    "  \n",
    "    '''\n",
    "    #Peart I.: Surprise docomuntation\n",
    "    \n",
    "    #1. First map the predictions to each user.\n",
    "    top_n = defaultdict(list)\n",
    "    for uid, iid, true_r, est, _ in predictions:\n",
    "        top_n[uid].append((iid, est))\n",
    "\n",
    "    #2. Then sort the predictions for each user and retrieve the k highest ones.\n",
    "    for uid, user_ratings in top_n.items():\n",
    "        user_ratings.sort(key = lambda x: x[1], reverse = True)\n",
    "        top_n[uid] = user_ratings[: n ]\n",
    "    \n",
    "    #Part II.: inspired by: https://beckernick.github.io/matrix-factorization-recommender/\n",
    "    \n",
    "    #3. Tells how many movies the user has already rated\n",
    "    user_data = ratings_df[ratings_df.user_name == (user_name)]\n",
    "    print('User {0} has already rated {1} courses.'.format(user_name, user_data.shape[0]))\n",
    "\n",
    "    \n",
    "    #4. Data Frame with predictions. \n",
    "    preds_df = pd.DataFrame([(id, pair[0],pair[1]) for id, row in top_n.items() for pair in row],\n",
    "                            columns=[\"user_name\" ,\"course_id\",\"rat_pred\"])\n",
    "    \n",
    "    \n",
    "    #5. Return pred_usr, i.e. top N recommended movies with (merged) titles and genres. \n",
    "    pred_usr = preds_df[preds_df[\"user_name\"] == (user_name)].merge(course_df, how = 'left', \n",
    "                                                                    left_on = 'course_id', right_on = 'course_id')\n",
    "            \n",
    "    #6. Return hist_usr, i.e. top N historically rated movies with (merged) titles and genres for holistic evaluation\n",
    "    hist_usr = ratings_df[ratings_df.user_name == (user_name) ].sort_values(\"rate\", ascending = False).merge\\\n",
    "    (course_df, how = 'left', left_on = 'course_id', right_on = 'course_id')\n",
    "    \n",
    "    \n",
    "    return hist_usr, pred_usr"
   ]
  },
  {
   "cell_type": "code",
   "execution_count": 41,
   "id": "8e05d3b5-959d-4044-aa84-f33a4ce3e266",
   "metadata": {},
   "outputs": [
    {
     "data": {
      "text/html": [
       "<div>\n",
       "<style scoped>\n",
       "    .dataframe tbody tr th:only-of-type {\n",
       "        vertical-align: middle;\n",
       "    }\n",
       "\n",
       "    .dataframe tbody tr th {\n",
       "        vertical-align: top;\n",
       "    }\n",
       "\n",
       "    .dataframe thead th {\n",
       "        text-align: right;\n",
       "    }\n",
       "</style>\n",
       "<table border=\"1\" class=\"dataframe\">\n",
       "  <thead>\n",
       "    <tr style=\"text-align: right;\">\n",
       "      <th></th>\n",
       "      <th>user_name</th>\n",
       "      <th>course_id</th>\n",
       "      <th>rate</th>\n",
       "    </tr>\n",
       "  </thead>\n",
       "  <tbody>\n",
       "    <tr>\n",
       "      <th>0</th>\n",
       "      <td>John Douglas</td>\n",
       "      <td>625204</td>\n",
       "      <td>5.0</td>\n",
       "    </tr>\n",
       "    <tr>\n",
       "      <th>1</th>\n",
       "      <td>Tanya</td>\n",
       "      <td>821278</td>\n",
       "      <td>4.0</td>\n",
       "    </tr>\n",
       "    <tr>\n",
       "      <th>2</th>\n",
       "      <td>Rohan</td>\n",
       "      <td>567828</td>\n",
       "      <td>5.0</td>\n",
       "    </tr>\n",
       "    <tr>\n",
       "      <th>3</th>\n",
       "      <td>Abhishek</td>\n",
       "      <td>1352468</td>\n",
       "      <td>4.0</td>\n",
       "    </tr>\n",
       "    <tr>\n",
       "      <th>4</th>\n",
       "      <td>Bryan T</td>\n",
       "      <td>1915496</td>\n",
       "      <td>5.0</td>\n",
       "    </tr>\n",
       "  </tbody>\n",
       "</table>\n",
       "</div>"
      ],
      "text/plain": [
       "      user_name  course_id  rate\n",
       "0  John Douglas     625204   5.0\n",
       "1         Tanya     821278   4.0\n",
       "2         Rohan     567828   5.0\n",
       "3      Abhishek    1352468   4.0\n",
       "4       Bryan T    1915496   5.0"
      ]
     },
     "execution_count": 41,
     "metadata": {},
     "output_type": "execute_result"
    }
   ],
   "source": [
    "course_data.head()"
   ]
  },
  {
   "cell_type": "code",
   "execution_count": 42,
   "id": "8bc658b0-53dd-4354-9948-396635cbeda0",
   "metadata": {},
   "outputs": [],
   "source": [
    "course_df = df[['course_id', 'title', 'headline', 'category', 'subcategory', 'topic']]\n",
    "course_df = course_df.drop_duplicates(subset='course_id')"
   ]
  },
  {
   "cell_type": "code",
   "execution_count": 43,
   "id": "ac962575-8ca8-4973-945e-f115d10af2ab",
   "metadata": {},
   "outputs": [
    {
     "name": "stdout",
     "output_type": "stream",
     "text": [
      "User Yusuf has already rated 43 courses.\n"
     ]
    }
   ],
   "source": [
    "hist_user, pred_usr = get_top_n(predictions, 'Yusuf' , course_df, course_data, n = 10)"
   ]
  },
  {
   "cell_type": "code",
   "execution_count": 44,
   "id": "bc474cb5-f541-4539-aa8a-637409f70626",
   "metadata": {},
   "outputs": [
    {
     "data": {
      "text/html": [
       "<div>\n",
       "<style scoped>\n",
       "    .dataframe tbody tr th:only-of-type {\n",
       "        vertical-align: middle;\n",
       "    }\n",
       "\n",
       "    .dataframe tbody tr th {\n",
       "        vertical-align: top;\n",
       "    }\n",
       "\n",
       "    .dataframe thead th {\n",
       "        text-align: right;\n",
       "    }\n",
       "</style>\n",
       "<table border=\"1\" class=\"dataframe\">\n",
       "  <thead>\n",
       "    <tr style=\"text-align: right;\">\n",
       "      <th></th>\n",
       "      <th>user_name</th>\n",
       "      <th>course_id</th>\n",
       "      <th>rate</th>\n",
       "      <th>title</th>\n",
       "      <th>headline</th>\n",
       "      <th>category</th>\n",
       "      <th>subcategory</th>\n",
       "      <th>topic</th>\n",
       "    </tr>\n",
       "  </thead>\n",
       "  <tbody>\n",
       "    <tr>\n",
       "      <th>0</th>\n",
       "      <td>Yusuf</td>\n",
       "      <td>764626</td>\n",
       "      <td>5.0</td>\n",
       "      <td>Learn ASP.NET Core using MVC 6 and Entity Fram...</td>\n",
       "      <td>Learn web application development using the ne...</td>\n",
       "      <td>Development</td>\n",
       "      <td>Web Development</td>\n",
       "      <td>ASP.NET</td>\n",
       "    </tr>\n",
       "    <tr>\n",
       "      <th>1</th>\n",
       "      <td>Yusuf</td>\n",
       "      <td>926512</td>\n",
       "      <td>5.0</td>\n",
       "      <td>Adobe Premiere Pro CC Masterclass: Video Editi...</td>\n",
       "      <td>Learn Beginner-Advanced Adobe Premiere Pro Vid...</td>\n",
       "      <td>Photography &amp; Video</td>\n",
       "      <td>Video Design</td>\n",
       "      <td>Adobe Premiere</td>\n",
       "    </tr>\n",
       "    <tr>\n",
       "      <th>2</th>\n",
       "      <td>Yusuf</td>\n",
       "      <td>929844</td>\n",
       "      <td>5.0</td>\n",
       "      <td>Start Using Wireshark to Hack like a Pro</td>\n",
       "      <td>Start your first capture, use Wireshark featur...</td>\n",
       "      <td>IT &amp; Software</td>\n",
       "      <td>Network &amp; Security</td>\n",
       "      <td>Wireshark</td>\n",
       "    </tr>\n",
       "    <tr>\n",
       "      <th>3</th>\n",
       "      <td>Yusuf</td>\n",
       "      <td>437398</td>\n",
       "      <td>5.0</td>\n",
       "      <td>Build Responsive Real-World Websites with HTML...</td>\n",
       "      <td>Learn modern HTML5, CSS3 and web design by bui...</td>\n",
       "      <td>Development</td>\n",
       "      <td>Web Development</td>\n",
       "      <td>CSS</td>\n",
       "    </tr>\n",
       "    <tr>\n",
       "      <th>4</th>\n",
       "      <td>Yusuf</td>\n",
       "      <td>2494990</td>\n",
       "      <td>5.0</td>\n",
       "      <td>Android Development: Android App Development F...</td>\n",
       "      <td>Learn java, android, android studio, android d...</td>\n",
       "      <td>Development</td>\n",
       "      <td>Mobile Development</td>\n",
       "      <td>Android Development</td>\n",
       "    </tr>\n",
       "  </tbody>\n",
       "</table>\n",
       "</div>"
      ],
      "text/plain": [
       "  user_name  course_id  rate  \\\n",
       "0     Yusuf     764626   5.0   \n",
       "1     Yusuf     926512   5.0   \n",
       "2     Yusuf     929844   5.0   \n",
       "3     Yusuf     437398   5.0   \n",
       "4     Yusuf    2494990   5.0   \n",
       "\n",
       "                                               title  \\\n",
       "0  Learn ASP.NET Core using MVC 6 and Entity Fram...   \n",
       "1  Adobe Premiere Pro CC Masterclass: Video Editi...   \n",
       "2           Start Using Wireshark to Hack like a Pro   \n",
       "3  Build Responsive Real-World Websites with HTML...   \n",
       "4  Android Development: Android App Development F...   \n",
       "\n",
       "                                            headline             category  \\\n",
       "0  Learn web application development using the ne...          Development   \n",
       "1  Learn Beginner-Advanced Adobe Premiere Pro Vid...  Photography & Video   \n",
       "2  Start your first capture, use Wireshark featur...        IT & Software   \n",
       "3  Learn modern HTML5, CSS3 and web design by bui...          Development   \n",
       "4  Learn java, android, android studio, android d...          Development   \n",
       "\n",
       "          subcategory                topic  \n",
       "0     Web Development              ASP.NET  \n",
       "1        Video Design       Adobe Premiere  \n",
       "2  Network & Security            Wireshark  \n",
       "3     Web Development                  CSS  \n",
       "4  Mobile Development  Android Development  "
      ]
     },
     "execution_count": 44,
     "metadata": {},
     "output_type": "execute_result"
    }
   ],
   "source": [
    "hist_user.head()"
   ]
  },
  {
   "cell_type": "code",
   "execution_count": 45,
   "id": "eed146a0-2ad9-4fad-8f46-023b3e20fddf",
   "metadata": {},
   "outputs": [
    {
     "data": {
      "text/html": [
       "<div>\n",
       "<style scoped>\n",
       "    .dataframe tbody tr th:only-of-type {\n",
       "        vertical-align: middle;\n",
       "    }\n",
       "\n",
       "    .dataframe tbody tr th {\n",
       "        vertical-align: top;\n",
       "    }\n",
       "\n",
       "    .dataframe thead th {\n",
       "        text-align: right;\n",
       "    }\n",
       "</style>\n",
       "<table border=\"1\" class=\"dataframe\">\n",
       "  <thead>\n",
       "    <tr style=\"text-align: right;\">\n",
       "      <th></th>\n",
       "      <th>user_name</th>\n",
       "      <th>course_id</th>\n",
       "      <th>rat_pred</th>\n",
       "      <th>title</th>\n",
       "      <th>headline</th>\n",
       "      <th>category</th>\n",
       "      <th>subcategory</th>\n",
       "      <th>topic</th>\n",
       "    </tr>\n",
       "  </thead>\n",
       "  <tbody>\n",
       "    <tr>\n",
       "      <th>0</th>\n",
       "      <td>Yusuf</td>\n",
       "      <td>929844</td>\n",
       "      <td>5.000000</td>\n",
       "      <td>Start Using Wireshark to Hack like a Pro</td>\n",
       "      <td>Start your first capture, use Wireshark featur...</td>\n",
       "      <td>IT &amp; Software</td>\n",
       "      <td>Network &amp; Security</td>\n",
       "      <td>Wireshark</td>\n",
       "    </tr>\n",
       "    <tr>\n",
       "      <th>1</th>\n",
       "      <td>Yusuf</td>\n",
       "      <td>965528</td>\n",
       "      <td>5.000000</td>\n",
       "      <td>Web Development Masterclass - Online Certifica...</td>\n",
       "      <td>Cloud Computing | Web Apps | Linux | Web Serve...</td>\n",
       "      <td>Development</td>\n",
       "      <td>Web Development</td>\n",
       "      <td>Web Development</td>\n",
       "    </tr>\n",
       "    <tr>\n",
       "      <th>2</th>\n",
       "      <td>Yusuf</td>\n",
       "      <td>3149012</td>\n",
       "      <td>5.000000</td>\n",
       "      <td>Video Editing in Adobe Premiere - From Beginne...</td>\n",
       "      <td>Make Any Video Look Like a Real Movie</td>\n",
       "      <td>Photography &amp; Video</td>\n",
       "      <td>Video Design</td>\n",
       "      <td>Video Editing</td>\n",
       "    </tr>\n",
       "    <tr>\n",
       "      <th>3</th>\n",
       "      <td>Yusuf</td>\n",
       "      <td>3145480</td>\n",
       "      <td>5.000000</td>\n",
       "      <td>Google Ads For Beginners 2022 - Step By Step P...</td>\n",
       "      <td>Watch Over My Shoulder As I Set Up And Create ...</td>\n",
       "      <td>Marketing</td>\n",
       "      <td>Paid Advertising</td>\n",
       "      <td>Google Ads (Adwords)</td>\n",
       "    </tr>\n",
       "    <tr>\n",
       "      <th>4</th>\n",
       "      <td>Yusuf</td>\n",
       "      <td>3438904</td>\n",
       "      <td>4.878731</td>\n",
       "      <td>Active Listening: You Can Be a Great Listener</td>\n",
       "      <td>Improve your reactive habits, define your list...</td>\n",
       "      <td>Business</td>\n",
       "      <td>Communication</td>\n",
       "      <td>Listening Skills</td>\n",
       "    </tr>\n",
       "    <tr>\n",
       "      <th>5</th>\n",
       "      <td>Yusuf</td>\n",
       "      <td>2142292</td>\n",
       "      <td>4.830228</td>\n",
       "      <td>Python For Beginners: Learn Python With Hands-...</td>\n",
       "      <td>Python course to get you start learning Python...</td>\n",
       "      <td>Development</td>\n",
       "      <td>Programming Languages</td>\n",
       "      <td>Python Scripting</td>\n",
       "    </tr>\n",
       "    <tr>\n",
       "      <th>6</th>\n",
       "      <td>Yusuf</td>\n",
       "      <td>1462428</td>\n",
       "      <td>4.820690</td>\n",
       "      <td>Photography Masterclass: A Complete Guide to P...</td>\n",
       "      <td>The Best Online Professional Photography Class...</td>\n",
       "      <td>Photography &amp; Video</td>\n",
       "      <td>Photography</td>\n",
       "      <td>Photography</td>\n",
       "    </tr>\n",
       "    <tr>\n",
       "      <th>7</th>\n",
       "      <td>Yusuf</td>\n",
       "      <td>1278360</td>\n",
       "      <td>4.788662</td>\n",
       "      <td>11 Essential Coding Interview Questions + Codi...</td>\n",
       "      <td>Learn 3 handy problem solving techniques. Get ...</td>\n",
       "      <td>Development</td>\n",
       "      <td>Software Engineering</td>\n",
       "      <td>Coding Interview</td>\n",
       "    </tr>\n",
       "    <tr>\n",
       "      <th>8</th>\n",
       "      <td>Yusuf</td>\n",
       "      <td>1059278</td>\n",
       "      <td>4.773892</td>\n",
       "      <td>Build a Shopify Dropshipping Business from Scr...</td>\n",
       "      <td>Start your own business from anywhere in the w...</td>\n",
       "      <td>Business</td>\n",
       "      <td>E-Commerce</td>\n",
       "      <td>Shopify Dropshipping</td>\n",
       "    </tr>\n",
       "    <tr>\n",
       "      <th>9</th>\n",
       "      <td>Yusuf</td>\n",
       "      <td>513244</td>\n",
       "      <td>4.731249</td>\n",
       "      <td>Data Science A-Z™: Real-Life Data Science Exer...</td>\n",
       "      <td>Learn Data Science step by step through real A...</td>\n",
       "      <td>Development</td>\n",
       "      <td>Data Science</td>\n",
       "      <td>Data Science</td>\n",
       "    </tr>\n",
       "  </tbody>\n",
       "</table>\n",
       "</div>"
      ],
      "text/plain": [
       "  user_name  course_id  rat_pred  \\\n",
       "0     Yusuf     929844  5.000000   \n",
       "1     Yusuf     965528  5.000000   \n",
       "2     Yusuf    3149012  5.000000   \n",
       "3     Yusuf    3145480  5.000000   \n",
       "4     Yusuf    3438904  4.878731   \n",
       "5     Yusuf    2142292  4.830228   \n",
       "6     Yusuf    1462428  4.820690   \n",
       "7     Yusuf    1278360  4.788662   \n",
       "8     Yusuf    1059278  4.773892   \n",
       "9     Yusuf     513244  4.731249   \n",
       "\n",
       "                                               title  \\\n",
       "0           Start Using Wireshark to Hack like a Pro   \n",
       "1  Web Development Masterclass - Online Certifica...   \n",
       "2  Video Editing in Adobe Premiere - From Beginne...   \n",
       "3  Google Ads For Beginners 2022 - Step By Step P...   \n",
       "4      Active Listening: You Can Be a Great Listener   \n",
       "5  Python For Beginners: Learn Python With Hands-...   \n",
       "6  Photography Masterclass: A Complete Guide to P...   \n",
       "7  11 Essential Coding Interview Questions + Codi...   \n",
       "8  Build a Shopify Dropshipping Business from Scr...   \n",
       "9  Data Science A-Z™: Real-Life Data Science Exer...   \n",
       "\n",
       "                                            headline             category  \\\n",
       "0  Start your first capture, use Wireshark featur...        IT & Software   \n",
       "1  Cloud Computing | Web Apps | Linux | Web Serve...          Development   \n",
       "2              Make Any Video Look Like a Real Movie  Photography & Video   \n",
       "3  Watch Over My Shoulder As I Set Up And Create ...            Marketing   \n",
       "4  Improve your reactive habits, define your list...             Business   \n",
       "5  Python course to get you start learning Python...          Development   \n",
       "6  The Best Online Professional Photography Class...  Photography & Video   \n",
       "7  Learn 3 handy problem solving techniques. Get ...          Development   \n",
       "8  Start your own business from anywhere in the w...             Business   \n",
       "9  Learn Data Science step by step through real A...          Development   \n",
       "\n",
       "             subcategory                 topic  \n",
       "0     Network & Security             Wireshark  \n",
       "1        Web Development       Web Development  \n",
       "2           Video Design         Video Editing  \n",
       "3       Paid Advertising  Google Ads (Adwords)  \n",
       "4          Communication      Listening Skills  \n",
       "5  Programming Languages      Python Scripting  \n",
       "6            Photography           Photography  \n",
       "7   Software Engineering      Coding Interview  \n",
       "8             E-Commerce  Shopify Dropshipping  \n",
       "9           Data Science          Data Science  "
      ]
     },
     "execution_count": 45,
     "metadata": {},
     "output_type": "execute_result"
    }
   ],
   "source": [
    "pred_usr"
   ]
  },
  {
   "cell_type": "code",
   "execution_count": 49,
   "id": "5fc0b80a-c201-4cbf-bc45-3e27d904c60f",
   "metadata": {},
   "outputs": [],
   "source": [
    "def retrieve_courses(model, course_id):\n",
    "    \n",
    "    course_dict = dict(zip(df['title'], df['course_id']))\n",
    "    id_dict = dict(zip(df['course_id'], df['title']))\n",
    "\n",
    "    inner_id = model.trainset.to_inner_iid(course_id)\n",
    "    neighbors_item = model.get_neighbors(inner_id, k=10)\n",
    "    \n",
    "    # Convert inner ids of the neighbors into names.\n",
    "    neighbors_name = (\n",
    "        model.trainset.to_raw_iid(iid) for iid in neighbors_item\n",
    "    )\n",
    "    \n",
    "    course_neighbors = [id_dict[rid] for rid in neighbors_name]\n",
    "    \n",
    "    return course_neighbors"
   ]
  },
  {
   "cell_type": "code",
   "execution_count": 50,
   "id": "5533a360-7904-4669-b206-adeed18aac8c",
   "metadata": {},
   "outputs": [],
   "source": [
    "num = 2\n",
    "course_id = searching.iloc[num]['course_id']"
   ]
  },
  {
   "cell_type": "code",
   "execution_count": 53,
   "id": "1c5a5c67-54b0-45ca-86ed-698981c95c3e",
   "metadata": {},
   "outputs": [
    {
     "name": "stdout",
     "output_type": "stream",
     "text": [
      "The Complete Cyber Security Course : Hackers Exposed!\n",
      "Automate the Boring Stuff with Python Programming\n",
      "Reiki Level I, II and Master/Teacher Program\n",
      "1 Hour HTML\n",
      "The Complete Communication Skills Master Class for Life\n",
      "The Complete Web Developer in 2022: Zero to Mastery\n",
      "Character Art School: Complete Character Drawing\n",
      "Complete C# Masterclass\n",
      "Root Cause Analysis and the 8D Corrective Action Process\n",
      "An Entire MBA in 1 Course:Award Winning Business School Prof\n"
     ]
    }
   ],
   "source": [
    "course_neighbors = retrieve_courses(knn, course_id)\n",
    "for n in course_neighbors:\n",
    "    print(n)"
   ]
  },
  {
   "cell_type": "code",
   "execution_count": null,
   "id": "ae61e09d-e5e1-43a6-823c-1b0325953332",
   "metadata": {},
   "outputs": [],
   "source": []
  }
 ],
 "metadata": {
  "kernelspec": {
   "display_name": "Python 3 (ipykernel)",
   "language": "python",
   "name": "python3"
  },
  "language_info": {
   "codemirror_mode": {
    "name": "ipython",
    "version": 3
   },
   "file_extension": ".py",
   "mimetype": "text/x-python",
   "name": "python",
   "nbconvert_exporter": "python",
   "pygments_lexer": "ipython3",
   "version": "3.11.8"
  }
 },
 "nbformat": 4,
 "nbformat_minor": 5
}
